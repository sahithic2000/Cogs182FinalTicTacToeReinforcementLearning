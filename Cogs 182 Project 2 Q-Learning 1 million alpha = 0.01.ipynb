{
 "cells": [
  {
   "cell_type": "code",
   "execution_count": 1,
   "metadata": {},
   "outputs": [],
   "source": [
    "import numpy as np\n",
    "import random\n",
    "import collections \n",
    "import matplotlib.pyplot as plt"
   ]
  },
  {
   "cell_type": "code",
   "execution_count": 2,
   "metadata": {},
   "outputs": [],
   "source": [
    "#awards rewards based on winnings \n",
    "def check_win(configuration):\n",
    "    wins = [[0,1,2,3],[4,5,6,7],[8,9,10,11],\n",
    "            [12,13,14,15],[0,4,8,12],[1,5,9,13],\n",
    "            [2,6,10,14],[3,7,11,15],[0,5,10,15],[3,6,9,12]]\n",
    "    \n",
    "    for i in range(10):\n",
    "        if (configuration[wins[i][0]] == 1 and\n",
    "            configuration[wins[i][1]] == 1 and\n",
    "            configuration[wins[i][2]] == 1 and \n",
    "            configuration[wins[i][3]] == 1):\n",
    "            return 1\n",
    "    \n",
    "    for i in range(10):\n",
    "        if (configuration[wins[i][0]] == 2 and\n",
    "            configuration[wins[i][1]] == 2 and\n",
    "            configuration[wins[i][2]] == 2 and \n",
    "            configuration[wins[i][3]] == 2):\n",
    "            return -1\n",
    "    return 0  "
   ]
  },
  {
   "cell_type": "code",
   "execution_count": 3,
   "metadata": {},
   "outputs": [],
   "source": [
    "#converts the board into an integer to store the values\n",
    "def state_to_key(state):\n",
    "    key = 0\n",
    "    for i, elem in enumerate(state):\n",
    "        key += int(elem * 3**(i))\n",
    "    return key"
   ]
  },
  {
   "cell_type": "code",
   "execution_count": 4,
   "metadata": {},
   "outputs": [],
   "source": [
    "#returns the next and reward given a state and action\n",
    "def make_move(state,action,player):\n",
    "    state[action]=player\n",
    "    reward=check_win(state)\n",
    "    return state,reward"
   ]
  },
  {
   "cell_type": "code",
   "execution_count": 5,
   "metadata": {},
   "outputs": [],
   "source": [
    "#choosing an action based on e-greedy policy\n",
    "def select_action(state,act_choices):\n",
    "    global td_Q\n",
    "    global td_Ct, used_q, not_used_q, used_eps\n",
    "    epsilon = 0.1 \n",
    "    n = random.uniform(0,1)\n",
    "    if(n<epsilon):\n",
    "        return random.choice(act_choices)\n",
    "    else:\n",
    "        act_chosen=-1\n",
    "        q_val=-1000.0\n",
    "        for act in act_choices:\n",
    "            if (td_Q[state][act]!=0 and td_Q[state][act]>q_val):\n",
    "                q_val=td_Q[state][act]\n",
    "                act_chosen=act\n",
    "        if (act_chosen<0):\n",
    "            act_chosen = random.choice(act_choices)\n",
    "    return act_chosen"
   ]
  },
  {
   "cell_type": "code",
   "execution_count": 6,
   "metadata": {},
   "outputs": [],
   "source": [
    "#trains an agent using 1 million episodes\n",
    "def off_policy_td_control():\n",
    "    global win_list,loss_list,tie_list,x_axis\n",
    "    wins = 0 \n",
    "    loss = 0 \n",
    "    tie = 0 \n",
    "    global td_Q\n",
    "    reward_list = []\n",
    "    for i in range(1000001):  \n",
    "        state = np.zeros(16)\n",
    "        action_choices = [0,1,2,3,4,5,6,7,8,9,10,11,12,13,14,15]\n",
    "        player=random.choice([0,1])\n",
    "        reward=0\n",
    "        reward_list.append(reward)\n",
    "        while(reward==0 and len(action_choices)>0):\n",
    "            state_key=state_to_key(state)\n",
    "            action = select_action(state_key,action_choices)\n",
    "            action_choices.remove(action)   \n",
    "            player=player%2+1\n",
    "            new_state,reward=make_move(state,action,player)\n",
    "            new_state_key=state_to_key(new_state)\n",
    "            alpha=0.01\n",
    "            td_Q[state_key][action] += alpha * (reward + np.max(td_Q[new_state_key]) - td_Q[state_key][action])\n",
    "            state=new_state\n",
    "            \n",
    "        if (reward==1):\n",
    "            wins+=1\n",
    "        elif (reward==-1):\n",
    "            loss+=1\n",
    "        else:\n",
    "            tie+=1\n",
    "            \n",
    "        if (i>0 and (i%100000==0 or i==50000 or i==20000 or i==10000 or i==5000)):\n",
    "            print(\"After \",i,\" episodes: \")\n",
    "            total=wins+loss+tie\n",
    "            win_pct=round(100*wins/total,2)\n",
    "            loss_pct=round(100*loss/total,2)\n",
    "            tie_pct=round(100*tie/total,2)\n",
    "            if total>0:\n",
    "                x_axis.append(i)\n",
    "                win_list.append(win_pct)\n",
    "                loss_list.append(loss_pct)\n",
    "                tie_list.append(tie_pct)\n",
    "            print(\"   wins: \",win_pct,\"; loss: \", loss_pct,\"; tie: \",tie_pct)\n",
    "            wins = 0 \n",
    "            loss = 0 \n",
    "            tie = 0 \n",
    "    \n",
    "    return td_Q"
   ]
  },
  {
   "cell_type": "code",
   "execution_count": 7,
   "metadata": {},
   "outputs": [
    {
     "name": "stdout",
     "output_type": "stream",
     "text": [
      "After  5000  episodes: \n",
      "   wins:  29.93 ; loss:  27.75 ; tie:  42.31\n",
      "After  10000  episodes: \n",
      "   wins:  29.5 ; loss:  29.34 ; tie:  41.16\n",
      "After  20000  episodes: \n",
      "   wins:  28.64 ; loss:  28.51 ; tie:  42.85\n",
      "After  50000  episodes: \n",
      "   wins:  58.43 ; loss:  16.23 ; tie:  25.33\n",
      "After  100000  episodes: \n",
      "   wins:  76.42 ; loss:  8.9 ; tie:  14.68\n",
      "After  200000  episodes: \n",
      "   wins:  83.0 ; loss:  6.89 ; tie:  10.11\n",
      "After  300000  episodes: \n",
      "   wins:  85.39 ; loss:  6.22 ; tie:  8.39\n",
      "After  400000  episodes: \n",
      "   wins:  84.75 ; loss:  7.86 ; tie:  7.38\n",
      "After  500000  episodes: \n",
      "   wins:  85.92 ; loss:  7.36 ; tie:  6.71\n",
      "After  600000  episodes: \n",
      "   wins:  84.8 ; loss:  7.39 ; tie:  7.81\n",
      "After  700000  episodes: \n",
      "   wins:  85.9 ; loss:  6.5 ; tie:  7.61\n",
      "After  800000  episodes: \n",
      "   wins:  88.23 ; loss:  5.5 ; tie:  6.27\n",
      "After  900000  episodes: \n",
      "   wins:  89.6 ; loss:  4.92 ; tie:  5.48\n",
      "After  1000000  episodes: \n",
      "   wins:  88.9 ; loss:  5.15 ; tie:  5.95\n"
     ]
    },
    {
     "data": {
      "text/plain": [
       "array([[6.80440481e-01, 9.88784908e-01, 8.51264100e-01, ...,\n",
       "        7.54141866e-01, 9.54623800e-01, 8.09222937e-01],\n",
       "       [0.00000000e+00, 0.00000000e+00, 0.00000000e+00, ...,\n",
       "        0.00000000e+00, 0.00000000e+00, 0.00000000e+00],\n",
       "       [0.00000000e+00, 1.44666596e-04, 0.00000000e+00, ...,\n",
       "        0.00000000e+00, 0.00000000e+00, 7.20910209e-04],\n",
       "       ...,\n",
       "       [0.00000000e+00, 0.00000000e+00, 0.00000000e+00, ...,\n",
       "        0.00000000e+00, 0.00000000e+00, 0.00000000e+00],\n",
       "       [0.00000000e+00, 0.00000000e+00, 0.00000000e+00, ...,\n",
       "        0.00000000e+00, 0.00000000e+00, 0.00000000e+00],\n",
       "       [0.00000000e+00, 0.00000000e+00, 0.00000000e+00, ...,\n",
       "        0.00000000e+00, 0.00000000e+00, 0.00000000e+00]])"
      ]
     },
     "execution_count": 7,
     "metadata": {},
     "output_type": "execute_result"
    }
   ],
   "source": [
    "td_Q = np.zeros([3**16,16])\n",
    "win_list=[]\n",
    "loss_list=[]\n",
    "tie_list=[]\n",
    "x_axis=[]\n",
    "off_policy_td_control()"
   ]
  },
  {
   "cell_type": "code",
   "execution_count": 8,
   "metadata": {},
   "outputs": [
    {
     "name": "stdout",
     "output_type": "stream",
     "text": [
      "[29.93, 29.5, 28.64, 58.43, 76.42, 83.0, 85.39, 84.75, 85.92, 84.8, 85.9, 88.23, 89.6, 88.9]\n",
      "[27.75, 29.34, 28.51, 16.23, 8.9, 6.89, 6.22, 7.86, 7.36, 7.39, 6.5, 5.5, 4.92, 5.15]\n",
      "[42.31, 41.16, 42.85, 25.33, 14.68, 10.11, 8.39, 7.38, 6.71, 7.81, 7.61, 6.27, 5.48, 5.95]\n",
      "[5000, 10000, 20000, 50000, 100000, 200000, 300000, 400000, 500000, 600000, 700000, 800000, 900000, 1000000]\n"
     ]
    },
    {
     "data": {
      "image/png": "[encoded data removed]",
      "text/plain": [
       "<Figure size 432x288 with 1 Axes>"
      ]
     },
     "metadata": {
      "needs_background": "light"
     },
     "output_type": "display_data"
    }
   ],
   "source": [
    "print(win_list)\n",
    "print(loss_list)\n",
    "print(tie_list)\n",
    "print(x_axis)\n",
    "plt.plot(x_axis,win_list,color='blue',linewidth=3,label='Wins')\n",
    "plt.plot(x_axis,loss_list,color='red',linewidth=3,label='Losses')\n",
    "plt.plot(x_axis,tie_list,color='green',linewidth=3,label='Ties')\n",
    "plt.legend(title='Q-learning alpha=0.01')\n",
    "plt.xlabel(\"# of episodes (in millions)\")\n",
    "plt.ylabel(\"% of wins/losses/ties\")\n",
    "plt.show()"
   ]
  },
  {
   "cell_type": "code",
   "execution_count": null,
   "metadata": {},
   "outputs": [],
   "source": []
  }
 ],
 "metadata": {
  "kernelspec": {
   "display_name": "Python 3",
   "language": "python",
   "name": "python3"
  },
  "language_info": {
   "codemirror_mode": {
    "name": "ipython",
    "version": 3
   },
   "file_extension": ".py",
   "mimetype": "text/x-python",
   "name": "python",
   "nbconvert_exporter": "python",
   "pygments_lexer": "ipython3",
   "version": "3.8.5"
  }
 },
 "nbformat": 4,
 "nbformat_minor": 4
}
