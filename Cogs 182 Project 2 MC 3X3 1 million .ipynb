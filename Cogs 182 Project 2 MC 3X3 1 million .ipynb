{
 "cells": [
  {
   "cell_type": "code",
   "execution_count": 11,
   "metadata": {},
   "outputs": [],
   "source": [
    "import numpy as np\n",
    "import random\n",
    "import collections \n",
    "import matplotlib.pyplot as plt"
   ]
  },
  {
   "cell_type": "code",
   "execution_count": 12,
   "metadata": {},
   "outputs": [],
   "source": [
    "#awards rewards based on winnings \n",
    "def check_win(configuration):\n",
    "    wins = [[0,1,2],[3,4,5],[6,7,8],\n",
    "            [0,3,6],[1,4,7],[2,5,8],\n",
    "            [0,4,8],[2,4,6]]\n",
    "    \n",
    "    for i in range(8):\n",
    "        if (configuration[wins[i][0]] == 1 and\n",
    "            configuration[wins[i][1]] == 1 and\n",
    "            configuration[wins[i][2]] == 1):\n",
    "            return 1\n",
    "    \n",
    "    for i in range(8):\n",
    "        if (configuration[wins[i][0]] == 2 and\n",
    "            configuration[wins[i][1]] == 2 and\n",
    "            configuration[wins[i][2]] == 2 ):\n",
    "            return -1\n",
    "    return 0"
   ]
  },
  {
   "cell_type": "code",
   "execution_count": 13,
   "metadata": {},
   "outputs": [],
   "source": [
    "#converts the board into an integer to store the values\n",
    "def state_to_key(state):\n",
    "    key = 0\n",
    "    for i, elem in enumerate(state):\n",
    "        key += int(elem * 3**(i))\n",
    "    return key"
   ]
  },
  {
   "cell_type": "code",
   "execution_count": 14,
   "metadata": {},
   "outputs": [],
   "source": [
    "#returns the next and reward given a state and action\n",
    "def make_move(state,action,player):\n",
    "    state[action]=player\n",
    "    reward=check_win(state)\n",
    "    return state,reward"
   ]
  },
  {
   "cell_type": "code",
   "execution_count": 15,
   "metadata": {},
   "outputs": [],
   "source": [
    "# for the mc agent to selects action based on the Q valu\n",
    "def mc_select_action(state,act_choices,q):\n",
    "    act_chosen=-1\n",
    "    q_val=-1000\n",
    "    for act in act_choices:\n",
    "        if (q[state][act]!=0 and q[state][act]>q_val):\n",
    "            q_val=pi[state][act]\n",
    "            act_chosen=act\n",
    "    if (act_chosen<0):\n",
    "        act_chosen = random.choice(act_choices)\n",
    "        \n",
    "    return act_chosen"
   ]
  },
  {
   "cell_type": "code",
   "execution_count": 16,
   "metadata": {},
   "outputs": [],
   "source": [
    "#agent is playing based on the trained q values\n",
    "def play_using_q(q):\n",
    "    global win_list, loss_list, tie_list\n",
    "    wins = 0 \n",
    "    loss = 0 \n",
    "    tie = 0 \n",
    "\n",
    "    for i in range(1000):\n",
    "        state = np.zeros(9)\n",
    "        action_choices = [0,1,2,3,4,5,6,7,8]\n",
    "        player=random.choice([0,1])\n",
    "        reward=0\n",
    "        while(len(action_choices)>0 and reward==0):\n",
    "            player=player%2+1\n",
    "            if (player==1):\n",
    "                action = mc_select_action(state_to_key(state),action_choices,q) \n",
    "            else:\n",
    "                action = random.choice(action_choices) \n",
    "            action_choices.remove(action)   \n",
    "            new_state,reward=make_move(state,action,player)  \n",
    "            \n",
    "        if (reward==1):\n",
    "            wins+=1\n",
    "        elif (reward==-1):\n",
    "            loss+=1\n",
    "        else:\n",
    "            tie+=1\n",
    "       \n",
    "    win_list.append(wins)\n",
    "    loss_list.append(loss)\n",
    "    tie_list.append(tie)\n",
    "    print(\"    Win : \", wins, \"Loss : \", loss, \"Ties : \", tie)"
   ]
  },
  {
   "cell_type": "code",
   "execution_count": 17,
   "metadata": {},
   "outputs": [],
   "source": [
    "def monte_carlo_control(pi,Q,Counts):\n",
    "    global x_axis\n",
    "    episode=[]\n",
    "    for i in range(1000001):\n",
    "        state = np.zeros(9)\n",
    "        action_choices = [0,1,2,3,4,5,6,7,8]\n",
    "        player=random.choice([0,1])\n",
    "        #player= 0\n",
    "        reward=0\n",
    "        episode=[]\n",
    "        rewards=[]\n",
    "        while(len(action_choices)>0 and reward==0):\n",
    "            player=player%2+1\n",
    "            state_key=state_to_key(state)\n",
    "            action =  random.choice(action_choices)\n",
    "            action_choices.remove(action)   \n",
    "            new_state,reward=make_move(state,action,player) \n",
    "            episode.append((state_key,action))\n",
    "            rewards.append(reward)\n",
    "            state=new_state\n",
    "            \n",
    "        G=0\n",
    "        for j,(s,a) in enumerate(reversed(episode)):\n",
    "            ind_frw=len(rewards)-j-1\n",
    "            reward=rewards[ind_frw]\n",
    "            G+=reward\n",
    "            if (s,a) not in episode[:ind_frw]:\n",
    "                Counts[s][a] += 1\n",
    "                Q[s][a] += (G-Q[s][a])/Counts[s][a]\n",
    "\n",
    "        if (i>0 and (i%100000==0 or i==5 or i==1000 or i==5000)):\n",
    "            print(\"After \",i,\" episodes: \")\n",
    "            x_axis.append(i)\n",
    "            play_using_q(Q)"
   ]
  },
  {
   "cell_type": "code",
   "execution_count": 18,
   "metadata": {},
   "outputs": [
    {
     "name": "stdout",
     "output_type": "stream",
     "text": [
      "After  5  episodes: \n",
      "    Win :  451 Loss :  406 Ties :  143\n",
      "After  1000  episodes: \n",
      "    Win :  461 Loss :  418 Ties :  121\n",
      "After  5000  episodes: \n",
      "    Win :  583 Loss :  312 Ties :  105\n",
      "After  100000  episodes: \n",
      "    Win :  811 Loss :  143 Ties :  46\n",
      "After  200000  episodes: \n",
      "    Win :  769 Loss :  151 Ties :  80\n",
      "After  300000  episodes: \n",
      "    Win :  814 Loss :  124 Ties :  62\n",
      "After  400000  episodes: \n",
      "    Win :  835 Loss :  126 Ties :  39\n",
      "After  500000  episodes: \n",
      "    Win :  839 Loss :  119 Ties :  42\n",
      "After  600000  episodes: \n",
      "    Win :  841 Loss :  100 Ties :  59\n",
      "After  700000  episodes: \n",
      "    Win :  837 Loss :  112 Ties :  51\n",
      "After  800000  episodes: \n",
      "    Win :  871 Loss :  92 Ties :  37\n",
      "After  900000  episodes: \n",
      "    Win :  847 Loss :  101 Ties :  52\n",
      "After  1000000  episodes: \n",
      "    Win :  867 Loss :  90 Ties :  43\n"
     ]
    }
   ],
   "source": [
    "pi = np.zeros([3**9,9])\n",
    "Counts = np.zeros([3**9,9])\n",
    "Q = np.zeros([3**9,9])\n",
    "win_list=[]\n",
    "loss_list=[]\n",
    "tie_list=[]\n",
    "x_axis=[]\n",
    "myQ=monte_carlo_control(pi,Q,Counts)"
   ]
  },
  {
   "cell_type": "code",
   "execution_count": 32,
   "metadata": {
    "scrolled": true
   },
   "outputs": [
    {
     "name": "stdout",
     "output_type": "stream",
     "text": [
      "[455, 421, 632, 674, 675, 745, 757, 795, 795, 780, 816, 762]\n",
      "[441, 459, 301, 292, 241, 180, 191, 160, 152, 156, 147, 188]\n",
      "[104, 120, 67, 34, 84, 75, 52, 45, 53, 64, 37, 50]\n",
      "[5, 1000, 5000, 10000, 20000, 30000, 40000, 50000, 60000, 70000, 80000, 90000]\n"
     ]
    },
    {
     "data": {
      "image/png": "[encoded data removed]",
      "text/plain": [
       "<Figure size 432x288 with 1 Axes>"
      ]
     },
     "metadata": {
      "needs_background": "light"
     },
     "output_type": "display_data"
    }
   ],
   "source": [
    "print(win_list)\n",
    "print(loss_list)\n",
    "print(tie_list)\n",
    "print(x_axis)\n",
    "plt.plot(x_axis,win_list,color='blue',linewidth=3,label='Wins')\n",
    "plt.plot(x_axis,loss_list,color='red',linewidth=3,label='Losses')\n",
    "plt.plot(x_axis,tie_list,color='green',linewidth=3,label='Ties')\n",
    "plt.legend(title='Monte Carlo Control')\n",
    "plt.xlabel(\"# of episodes\")\n",
    "plt.ylabel(\"# of wins/losses/ties\")\n",
    "plt.show()"
   ]
  },
  {
   "cell_type": "code",
   "execution_count": null,
   "metadata": {},
   "outputs": [],
   "source": []
  }
 ],
 "metadata": {
  "kernelspec": {
   "display_name": "Python 3",
   "language": "python",
   "name": "python3"
  },
  "language_info": {
   "codemirror_mode": {
    "name": "ipython",
    "version": 3
   },
   "file_extension": ".py",
   "mimetype": "text/x-python",
   "name": "python",
   "nbconvert_exporter": "python",
   "pygments_lexer": "ipython3",
   "version": "3.8.5"
  }
 },
 "nbformat": 4,
 "nbformat_minor": 4
}
