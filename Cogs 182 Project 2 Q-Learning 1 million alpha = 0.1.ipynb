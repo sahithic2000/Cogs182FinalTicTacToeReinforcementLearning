{
 "cells": [
  {
   "cell_type": "code",
   "execution_count": 4,
   "metadata": {},
   "outputs": [],
   "source": [
    "import numpy as np\n",
    "import random\n",
    "import collections \n",
    "import matplotlib.pyplot as plt"
   ]
  },
  {
   "cell_type": "code",
   "execution_count": 5,
   "metadata": {},
   "outputs": [],
   "source": [
    "#awards rewards based on winnings \n",
    "def check_win(configuration):\n",
    "    wins = [[0,1,2,3],[4,5,6,7],[8,9,10,11],\n",
    "            [12,13,14,15],[0,4,8,12],[1,5,9,13],\n",
    "            [2,6,10,14],[3,7,11,15],[0,5,10,15],[3,6,9,12]]\n",
    "    \n",
    "    for i in range(10):\n",
    "        if (configuration[wins[i][0]] == 1 and\n",
    "            configuration[wins[i][1]] == 1 and\n",
    "            configuration[wins[i][2]] == 1 and \n",
    "            configuration[wins[i][3]] == 1):\n",
    "            return 1\n",
    "    \n",
    "    for i in range(10):\n",
    "        if (configuration[wins[i][0]] == 2 and\n",
    "            configuration[wins[i][1]] == 2 and\n",
    "            configuration[wins[i][2]] == 2 and \n",
    "            configuration[wins[i][3]] == 2):\n",
    "            return -1\n",
    "    return 0  "
   ]
  },
  {
   "cell_type": "code",
   "execution_count": 6,
   "metadata": {},
   "outputs": [],
   "source": [
    "#converts the board into an integer to store the values\n",
    "def state_to_key(state):\n",
    "    key = 0\n",
    "    for i, elem in enumerate(state):\n",
    "        key += int(elem * 3**(i))\n",
    "    return key"
   ]
  },
  {
   "cell_type": "code",
   "execution_count": 7,
   "metadata": {},
   "outputs": [],
   "source": [
    "#returns the next and reward given a state and action\n",
    "def make_move(state,action,player):\n",
    "    state[action]=player\n",
    "    reward=check_win(state)\n",
    "    return state,reward"
   ]
  },
  {
   "cell_type": "code",
   "execution_count": 8,
   "metadata": {},
   "outputs": [],
   "source": [
    "#choosing an action based on e-greedy policy\n",
    "def select_action(state,act_choices):\n",
    "    global td_Q\n",
    "    global td_Ct, used_q, not_used_q, used_eps\n",
    "    epsilon = 0.1 \n",
    "    n = random.uniform(0,1) \n",
    "    if(n<epsilon):\n",
    "        used_eps+=1\n",
    "        return random.choice(act_choices)\n",
    "    else:\n",
    "        act_chosen=-1\n",
    "        q_val=-1000.0\n",
    "        for act in act_choices:\n",
    "            if (td_Q[state][act]!=0 and td_Q[state][act]>q_val):\n",
    "                q_val=td_Q[state][act]\n",
    "                act_chosen=act\n",
    "        if (act_chosen<0):\n",
    "            act_chosen = random.choice(act_choices)\n",
    "            not_used_q+=1 \n",
    "        else:\n",
    "            used_q+=1\n",
    "\n",
    "    return act_chosen"
   ]
  },
  {
   "cell_type": "code",
   "execution_count": 63,
   "metadata": {},
   "outputs": [],
   "source": [
    "#trains an agent using 1 million episodes\n",
    "def off_policy_td_control():\n",
    "    global win_list,loss_list,tie_list,x_axis\n",
    "    wins = 0 \n",
    "    loss = 0 \n",
    "    tie = 0 \n",
    "    global td_Q\n",
    "    reward_list = []\n",
    "    for i in range(1000001):  \n",
    "        state = np.zeros(16)\n",
    "        action_choices = [0,1,2,3,4,5,6,7,8,9,10,11,12,13,14,15]\n",
    "        player=random.choice([0,1])\n",
    "        reward=0\n",
    "        reward_list.append(reward)\n",
    "        while(reward==0 and len(action_choices)>0):\n",
    "            state_key=state_to_key(state)\n",
    "            action = select_action(state_key,action_choices)\n",
    "            action_choices.remove(action)   \n",
    "            player=player%2+1\n",
    "            new_state,reward=make_move(state,action,player)\n",
    "            new_state_key=state_to_key(new_state)\n",
    "            alpha=0.1\n",
    "            td_Q[state_key][action] += alpha * (reward + np.max(td_Q[new_state_key]) - td_Q[state_key][action])\n",
    "            state=new_state\n",
    "            \n",
    "        if (reward==1):\n",
    "            wins+=1\n",
    "        elif (reward==-1):\n",
    "            loss+=1\n",
    "        else:\n",
    "            tie+=1\n",
    "            \n",
    "        if (i>0 and (i%100000==0 or i==50000 or i==20000 or i==10000 or i==5000)):\n",
    "            print(\"After \",i,\" episodes: \")\n",
    "            total=wins+loss+tie\n",
    "            win_pct=round(100*wins/total,2)\n",
    "            loss_pct=round(100*loss/total,2)\n",
    "            tie_pct=round(100*tie/total,2)\n",
    "            if total>0:\n",
    "                x_axis.append(i)\n",
    "                win_list.append(win_pct)\n",
    "                loss_list.append(loss_pct)\n",
    "                tie_list.append(tie_pct)\n",
    "            print(\"   wins: \",win_pct,\"; loss: \", loss_pct,\"; tie: \",tie_pct)\n",
    "            wins = 0 \n",
    "            loss = 0 \n",
    "            tie = 0 \n",
    "    \n",
    "    return td_Q"
   ]
  },
  {
   "cell_type": "code",
   "execution_count": 64,
   "metadata": {},
   "outputs": [
    {
     "name": "stdout",
     "output_type": "stream",
     "text": [
      "After  5000  episodes: \n",
      "   wins:  29.87 ; loss:  28.27 ; tie:  41.85\n",
      "After  10000  episodes: \n",
      "   wins:  30.02 ; loss:  29.46 ; tie:  40.52\n",
      "After  20000  episodes: \n",
      "   wins:  28.9 ; loss:  29.36 ; tie:  41.74\n",
      "After  50000  episodes: \n",
      "   wins:  44.54 ; loss:  23.47 ; tie:  32.0\n",
      "After  100000  episodes: \n",
      "   wins:  76.64 ; loss:  10.47 ; tie:  12.89\n",
      "After  200000  episodes: \n",
      "   wins:  78.5 ; loss:  9.26 ; tie:  12.23\n",
      "After  300000  episodes: \n",
      "   wins:  83.96 ; loss:  7.2 ; tie:  8.83\n",
      "After  400000  episodes: \n",
      "   wins:  86.04 ; loss:  6.58 ; tie:  7.38\n",
      "After  500000  episodes: \n",
      "   wins:  84.44 ; loss:  6.71 ; tie:  8.86\n",
      "After  600000  episodes: \n",
      "   wins:  88.39 ; loss:  5.39 ; tie:  6.22\n",
      "After  700000  episodes: \n",
      "   wins:  87.75 ; loss:  5.4 ; tie:  6.85\n",
      "After  800000  episodes: \n",
      "   wins:  90.28 ; loss:  4.51 ; tie:  5.21\n",
      "After  900000  episodes: \n",
      "   wins:  90.42 ; loss:  4.37 ; tie:  5.21\n",
      "After  1000000  episodes: \n",
      "   wins:  91.66 ; loss:  3.7 ; tie:  4.64\n"
     ]
    },
    {
     "data": {
      "text/plain": [
       "array([[0.99930117, 0.98394354, 0.99999998, ..., 0.99645848, 0.98970824,\n",
       "        0.99875528],\n",
       "       [0.        , 0.21272198, 0.        , ..., 0.67062533, 0.0779114 ,\n",
       "        0.33292566],\n",
       "       [0.        , 0.        , 0.01596364, ..., 0.02458   , 0.28144579,\n",
       "        0.2521074 ],\n",
       "       ...,\n",
       "       [0.        , 0.        , 0.        , ..., 0.        , 0.        ,\n",
       "        0.        ],\n",
       "       [0.        , 0.        , 0.        , ..., 0.        , 0.        ,\n",
       "        0.        ],\n",
       "       [0.        , 0.        , 0.        , ..., 0.        , 0.        ,\n",
       "        0.        ]])"
      ]
     },
     "execution_count": 64,
     "metadata": {},
     "output_type": "execute_result"
    }
   ],
   "source": [
    "td_Q = np.zeros([3**16,16])\n",
    "win_list=[]\n",
    "loss_list=[]\n",
    "tie_list=[]\n",
    "x_axis=[]\n",
    "off_policy_td_control()"
   ]
  },
  {
   "cell_type": "code",
   "execution_count": 65,
   "metadata": {},
   "outputs": [
    {
     "name": "stdout",
     "output_type": "stream",
     "text": [
      "[29.87, 30.02, 28.9, 44.54, 76.64, 78.5, 83.96, 86.04, 84.44, 88.39, 87.75, 90.28, 90.42, 91.66]\n",
      "[28.27, 29.46, 29.36, 23.47, 10.47, 9.26, 7.2, 6.58, 6.71, 5.39, 5.4, 4.51, 4.37, 3.7]\n",
      "[41.85, 40.52, 41.74, 32.0, 12.89, 12.23, 8.83, 7.38, 8.86, 6.22, 6.85, 5.21, 5.21, 4.64]\n",
      "[5000, 10000, 20000, 50000, 100000, 200000, 300000, 400000, 500000, 600000, 700000, 800000, 900000, 1000000]\n"
     ]
    },
    {
     "data": {
      "image/png": "[encoded data removed]",
      "text/plain": [
       "<Figure size 432x288 with 1 Axes>"
      ]
     },
     "metadata": {
      "needs_background": "light"
     },
     "output_type": "display_data"
    }
   ],
   "source": [
    "print(win_list)\n",
    "print(loss_list)\n",
    "print(tie_list)\n",
    "print(x_axis)\n",
    "plt.plot(x_axis,win_list,color='blue',linewidth=3,label='Wins')\n",
    "plt.plot(x_axis,loss_list,color='red',linewidth=3,label='Losses')\n",
    "plt.plot(x_axis,tie_list,color='green',linewidth=3,label='Ties')\n",
    "plt.legend(title='Q-learning')\n",
    "plt.xlabel(\"# of episodes\")\n",
    "plt.ylabel(\"% of wins/losses/ties\")\n",
    "plt.show()"
   ]
  },
  {
   "cell_type": "code",
   "execution_count": null,
   "metadata": {},
   "outputs": [],
   "source": []
  }
 ],
 "metadata": {
  "kernelspec": {
   "display_name": "Python 3",
   "language": "python",
   "name": "python3"
  },
  "language_info": {
   "codemirror_mode": {
    "name": "ipython",
    "version": 3
   },
   "file_extension": ".py",
   "mimetype": "text/x-python",
   "name": "python",
   "nbconvert_exporter": "python",
   "pygments_lexer": "ipython3",
   "version": "3.8.5"
  }
 },
 "nbformat": 4,
 "nbformat_minor": 4
}
