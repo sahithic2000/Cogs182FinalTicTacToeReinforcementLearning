{
 "cells": [
  {
   "cell_type": "code",
   "execution_count": 11,
   "metadata": {},
   "outputs": [],
   "source": [
    "import numpy as np\n",
    "import random\n",
    "import collections \n",
    "import matplotlib.pyplot as plt"
   ]
  },
  {
   "cell_type": "code",
   "execution_count": 12,
   "metadata": {},
   "outputs": [],
   "source": [
    "#awards rewards based on winnings \n",
    "def check_win(configuration):\n",
    "    wins = [[0,1,2],[3,4,5],[6,7,8],\n",
    "            [0,3,6],[1,4,7],[2,5,8],\n",
    "            [0,4,8],[2,4,6]]\n",
    "    \n",
    "    for i in range(8):\n",
    "        if (configuration[wins[i][0]] == 1 and\n",
    "            configuration[wins[i][1]] == 1 and\n",
    "            configuration[wins[i][2]] == 1):\n",
    "            return 1\n",
    "    \n",
    "    for i in range(8):\n",
    "        if (configuration[wins[i][0]] == 2 and\n",
    "            configuration[wins[i][1]] == 2 and\n",
    "            configuration[wins[i][2]] == 2 ):\n",
    "            return -1\n",
    "    return 0"
   ]
  },
  {
   "cell_type": "code",
   "execution_count": 13,
   "metadata": {},
   "outputs": [],
   "source": [
    "#converts the board into an integer to store the values\n",
    "def state_to_key(state):\n",
    "    key = 0\n",
    "    for i, elem in enumerate(state):\n",
    "        key += int(elem * 3**(i))\n",
    "    return key"
   ]
  },
  {
   "cell_type": "code",
   "execution_count": 14,
   "metadata": {},
   "outputs": [],
   "source": [
    "#returns the next and reward given a state and action\n",
    "def make_move(state,action,player):\n",
    "    state[action]=player\n",
    "    reward=check_win(state)\n",
    "    return state,reward"
   ]
  },
  {
   "cell_type": "code",
   "execution_count": 15,
   "metadata": {},
   "outputs": [],
   "source": [
    "# for the mc agent to selects action based on the Q values\n",
    "def mc_select_action(state,act_choices,q):\n",
    "    act_chosen=-1\n",
    "    q_val=-1000\n",
    "    for act in act_choices:\n",
    "        if (q[state][act]!=0 and q[state][act]>q_val):\n",
    "            q_val=pi[state][act]\n",
    "            act_chosen=act\n",
    "    if (act_chosen<0):\n",
    "        act_chosen = random.choice(act_choices)\n",
    "        \n",
    "    return act_chosen"
   ]
  },
  {
   "cell_type": "code",
   "execution_count": 26,
   "metadata": {},
   "outputs": [],
   "source": [
    "#agent is playing based on the trained q values\n",
    "def play_using_q(q):\n",
    "    global win_list, loss_list, tie_list\n",
    "    wins = 0 \n",
    "    loss = 0 \n",
    "    tie = 0 \n",
    "\n",
    "    for i in range(1000):\n",
    "        state = np.zeros(9)\n",
    "        action_choices = [0,1,2,3,4,5,6,7,8]\n",
    "        player=random.choice([0,1])\n",
    "        reward=0\n",
    "        while(len(action_choices)>0 and reward==0):\n",
    "            player=player%2+1\n",
    "            if (player==1):\n",
    "                action = mc_select_action(state_to_key(state),action_choices,q) \n",
    "            else:\n",
    "                action = random.choice(action_choices) \n",
    "            action_choices.remove(action)   \n",
    "            new_state,reward=make_move(state,action,player)  \n",
    "            \n",
    "        if (reward==1):\n",
    "            wins+=1\n",
    "        elif (reward==-1):\n",
    "            loss+=1\n",
    "        else:\n",
    "            tie+=1\n",
    "            \n",
    "    total=wins+loss+tie\n",
    "    win_pct=round(100*wins/total,2)\n",
    "    loss_pct=round(100*loss/total,2)\n",
    "    tie_pct=round(100*tie/total,2)\n",
    "    if total>0:\n",
    "        win_list.append(win_pct)\n",
    "        loss_list.append(loss_pct)\n",
    "        tie_list.append(tie_pct)\n",
    "    print(\"   wins: \",win_pct,\"; loss: \", loss_pct,\"; tie: \",tie_pct)\n",
    "    \n",
    "    '''win_list.append(wins)\n",
    "    loss_list.append(loss)\n",
    "    tie_list.append(tie)\n",
    "    print(\"    Win : \", wins, \"Loss : \", loss, \"Ties : \", tie)'''"
   ]
  },
  {
   "cell_type": "code",
   "execution_count": 27,
   "metadata": {},
   "outputs": [],
   "source": [
    "#training function under 1 million episodes\n",
    "def monte_carlo_control(pi,Q,Counts):\n",
    "    global x_axis\n",
    "    episode=[]\n",
    "    for i in range(1000001):\n",
    "        state = np.zeros(9)\n",
    "        action_choices = [0,1,2,3,4,5,6,7,8]\n",
    "        player=random.choice([0,1])\n",
    "        #player= 0\n",
    "        reward=0\n",
    "        episode=[]\n",
    "        rewards=[]\n",
    "        while(len(action_choices)>0 and reward==0):\n",
    "            player=player%2+1\n",
    "            state_key=state_to_key(state)\n",
    "            action =  random.choice(action_choices)\n",
    "            action_choices.remove(action)   \n",
    "            new_state,reward=make_move(state,action,player) \n",
    "            episode.append((state_key,action))\n",
    "            rewards.append(reward)\n",
    "            state=new_state\n",
    "            \n",
    "        G=0\n",
    "        for j,(s,a) in enumerate(reversed(episode)):\n",
    "            ind_frw=len(rewards)-j-1\n",
    "            reward=rewards[ind_frw]\n",
    "            G+=reward\n",
    "            if (s,a) not in episode[:ind_frw]:\n",
    "                Counts[s][a] += 1\n",
    "                Q[s][a] += (G-Q[s][a])/Counts[s][a]\n",
    "\n",
    "        if (i>0 and (i%100000==0 or i==5 or i==1000 or i==5000)):\n",
    "            print(\"After \",i,\" episodes: \")\n",
    "            x_axis.append(i)\n",
    "            play_using_q(Q)"
   ]
  },
  {
   "cell_type": "code",
   "execution_count": 28,
   "metadata": {},
   "outputs": [
    {
     "name": "stdout",
     "output_type": "stream",
     "text": [
      "After  5  episodes: \n",
      "   wins:  42.5 ; loss:  42.2 ; tie:  15.3\n",
      "After  1000  episodes: \n",
      "   wins:  49.8 ; loss:  40.2 ; tie:  10.0\n",
      "After  5000  episodes: \n",
      "   wins:  53.7 ; loss:  38.3 ; tie:  8.0\n",
      "After  100000  episodes: \n",
      "   wins:  79.7 ; loss:  15.5 ; tie:  4.8\n",
      "After  200000  episodes: \n",
      "   wins:  83.4 ; loss:  12.8 ; tie:  3.8\n",
      "After  300000  episodes: \n",
      "   wins:  86.7 ; loss:  8.6 ; tie:  4.7\n",
      "After  400000  episodes: \n",
      "   wins:  84.8 ; loss:  11.4 ; tie:  3.8\n",
      "After  500000  episodes: \n",
      "   wins:  83.1 ; loss:  12.2 ; tie:  4.7\n",
      "After  600000  episodes: \n",
      "   wins:  85.5 ; loss:  9.3 ; tie:  5.2\n",
      "After  700000  episodes: \n",
      "   wins:  82.4 ; loss:  11.9 ; tie:  5.7\n",
      "After  800000  episodes: \n",
      "   wins:  83.3 ; loss:  11.9 ; tie:  4.8\n",
      "After  900000  episodes: \n",
      "   wins:  84.3 ; loss:  10.6 ; tie:  5.1\n",
      "After  1000000  episodes: \n",
      "   wins:  84.5 ; loss:  10.8 ; tie:  4.7\n"
     ]
    }
   ],
   "source": [
    "pi = np.zeros([3**9,9])\n",
    "Counts = np.zeros([3**9,9])\n",
    "Q = np.zeros([3**9,9])\n",
    "win_list=[]\n",
    "loss_list=[]\n",
    "tie_list=[]\n",
    "x_axis=[]\n",
    "myQ=monte_carlo_control(pi,Q,Counts)"
   ]
  },
  {
   "cell_type": "code",
   "execution_count": 29,
   "metadata": {
    "scrolled": true
   },
   "outputs": [
    {
     "name": "stdout",
     "output_type": "stream",
     "text": [
      "[42.5, 49.8, 53.7, 79.7, 83.4, 86.7, 84.8, 83.1, 85.5, 82.4, 83.3, 84.3, 84.5]\n",
      "[42.2, 40.2, 38.3, 15.5, 12.8, 8.6, 11.4, 12.2, 9.3, 11.9, 11.9, 10.6, 10.8]\n",
      "[15.3, 10.0, 8.0, 4.8, 3.8, 4.7, 3.8, 4.7, 5.2, 5.7, 4.8, 5.1, 4.7]\n",
      "[5, 1000, 5000, 100000, 200000, 300000, 400000, 500000, 600000, 700000, 800000, 900000, 1000000]\n"
     ]
    },
    {
     "data": {
      "image/png": "[encoded data removed]",
      "text/plain": [
       "<Figure size 432x288 with 1 Axes>"
      ]
     },
     "metadata": {
      "needs_background": "light"
     },
     "output_type": "display_data"
    }
   ],
   "source": [
    "print(win_list)\n",
    "print(loss_list)\n",
    "print(tie_list)\n",
    "print(x_axis)\n",
    "plt.plot(x_axis,win_list,color='blue',linewidth=3,label='Wins')\n",
    "plt.plot(x_axis,loss_list,color='red',linewidth=3,label='Losses')\n",
    "plt.plot(x_axis,tie_list,color='green',linewidth=3,label='Ties')\n",
    "plt.legend(title='Monte Carlo Control')\n",
    "plt.xlabel(\"# of episodes\")\n",
    "plt.ylabel(\"% of wins/losses/ties\")\n",
    "plt.show()"
   ]
  },
  {
   "cell_type": "code",
   "execution_count": null,
   "metadata": {},
   "outputs": [],
   "source": []
  }
 ],
 "metadata": {
  "kernelspec": {
   "display_name": "Python 3",
   "language": "python",
   "name": "python3"
  },
  "language_info": {
   "codemirror_mode": {
    "name": "ipython",
    "version": 3
   },
   "file_extension": ".py",
   "mimetype": "text/x-python",
   "name": "python",
   "nbconvert_exporter": "python",
   "pygments_lexer": "ipython3",
   "version": "3.8.5"
  }
 },
 "nbformat": 4,
 "nbformat_minor": 4
}
