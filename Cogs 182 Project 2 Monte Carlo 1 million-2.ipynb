{
 "cells": [
  {
   "cell_type": "code",
   "execution_count": 32,
   "metadata": {},
   "outputs": [],
   "source": [
    "import numpy as np\n",
    "import random\n",
    "import collections \n",
    "import matplotlib.pyplot as plt"
   ]
  },
  {
   "cell_type": "code",
   "execution_count": 33,
   "metadata": {},
   "outputs": [],
   "source": [
    "#awards rewards based on winnings \n",
    "def check_win(configuration):\n",
    "    wins = [[0,1,2,3],[4,5,6,7],[8,9,10,11],\n",
    "            [12,13,14,15],[0,4,8,12],[1,5,9,13],\n",
    "            [2,6,10,14],[3,7,11,15],[0,5,10,15],[3,6,9,12]]\n",
    "    \n",
    "    for i in range(10):\n",
    "        if (configuration[wins[i][0]] == 1 and\n",
    "            configuration[wins[i][1]] == 1 and\n",
    "            configuration[wins[i][2]] == 1 and \n",
    "            configuration[wins[i][3]] == 1):\n",
    "            return 1\n",
    "    \n",
    "    for i in range(10):\n",
    "        if (configuration[wins[i][0]] == 2 and\n",
    "            configuration[wins[i][1]] == 2 and\n",
    "            configuration[wins[i][2]] == 2 and \n",
    "            configuration[wins[i][3]] == 2):\n",
    "            return -1\n",
    "    return 0"
   ]
  },
  {
   "cell_type": "code",
   "execution_count": 34,
   "metadata": {},
   "outputs": [],
   "source": [
    "#converts the board into an integer to store the values\n",
    "def state_to_key(state):\n",
    "    key = 0\n",
    "    for i, elem in enumerate(state):\n",
    "        key += int(elem * 3**(i))\n",
    "    return key"
   ]
  },
  {
   "cell_type": "code",
   "execution_count": 35,
   "metadata": {},
   "outputs": [],
   "source": [
    "#returns the next and reward given a state and action\n",
    "def make_move(state,action,player):\n",
    "    state[action]=player\n",
    "    reward=check_win(state)\n",
    "    return state,reward"
   ]
  },
  {
   "cell_type": "code",
   "execution_count": 36,
   "metadata": {},
   "outputs": [],
   "source": [
    "# for the mc agent to selects action based on the Q value\n",
    "def mc_select_action(state,act_choices,q):\n",
    "    act_chosen=-1\n",
    "    q_val=-1000.0\n",
    "    for act in act_choices:\n",
    "        if (q[state][act]!=0 and q[state][act]>q_val):\n",
    "            q_val=q[state][act]\n",
    "            act_chosen=act\n",
    "    if (act_chosen<0):\n",
    "        act_chosen = random.choice(act_choices)\n",
    "        \n",
    "    return act_chosen"
   ]
  },
  {
   "cell_type": "code",
   "execution_count": 43,
   "metadata": {},
   "outputs": [],
   "source": [
    "#agent is playing based on the trained q values\n",
    "def play_using_q(q):\n",
    "    global win_list, loss_list, tie_list\n",
    "    wins = 0 \n",
    "    loss = 0 \n",
    "    tie = 0 \n",
    "    \n",
    "    for i in range(1000):\n",
    "        state = np.zeros(16)\n",
    "        action_choices = [0,1,2,3,4,5,6,7,8,9,10,11,12,13,14,15]\n",
    "        player=random.choice([0,1])\n",
    "        reward=0\n",
    "        while(len(action_choices)>0 and reward==0):\n",
    "            player=player%2+1\n",
    "            if (player==1):\n",
    "                action = mc_select_action(state_to_key(state),action_choices,q) \n",
    "            else:\n",
    "                action = random.choice(action_choices) \n",
    "            action_choices.remove(action)   \n",
    "            new_state,reward=make_move(state,action,player)  \n",
    "            \n",
    "        if (reward==1):\n",
    "            wins+=1\n",
    "        elif (reward==-1):\n",
    "            loss+=1\n",
    "        else:\n",
    "            tie+=1\n",
    "            \n",
    "    total=wins+loss+tie\n",
    "    win_pct=round(100*wins/total,2)\n",
    "    loss_pct=round(100*loss/total,2)\n",
    "    tie_pct=round(100*tie/total,2)\n",
    "    if total>0:\n",
    "        win_list.append(win_pct)\n",
    "        loss_list.append(loss_pct)\n",
    "        tie_list.append(tie_pct)\n",
    "    print(\"   wins: \",win_pct,\"; loss: \", loss_pct,\"; tie: \",tie_pct)"
   ]
  },
  {
   "cell_type": "code",
   "execution_count": 44,
   "metadata": {},
   "outputs": [],
   "source": [
    "#training function under 1 million episodes\n",
    "def monte_carlo_control(pi,Q,Counts):\n",
    "    global x_axis\n",
    "    episode=[]\n",
    "    for i in range(1000001):\n",
    "        state = np.zeros(16)\n",
    "        action_choices = [0,1,2,3,4,5,6,7,8,9,10,11,12,13,14,15]\n",
    "        player=random.choice([0,1])\n",
    "        reward=0\n",
    "        episode=[]\n",
    "        rewards=[]\n",
    "        while(len(action_choices)>0 and reward==0):\n",
    "            player=player%2+1\n",
    "            state_key=state_to_key(state)\n",
    "            action =  random.choice(action_choices)\n",
    "            action_choices.remove(action)   \n",
    "            new_state,reward=make_move(state,action,player) \n",
    "            episode.append((state_key,action))\n",
    "            rewards.append(reward)\n",
    "            state=new_state\n",
    "            \n",
    "        G=0\n",
    "        for j,(s,a) in enumerate(reversed(episode)):\n",
    "            ind_frw=len(rewards)-j-1\n",
    "            reward=rewards[ind_frw]\n",
    "            G+=reward\n",
    "            if (s,a) not in episode[:ind_frw]:\n",
    "                Counts[s][a] += 1\n",
    "                Q[s][a] += (G-Q[s][a])/Counts[s][a]\n",
    "\n",
    "        if (i>0 and (i%100000==0 or i==5 or i==1000 or i==5000)):\n",
    "            print(\"After \",i,\" episodes: \")\n",
    "            x_axis.append(i)\n",
    "            play_using_q(Q)"
   ]
  },
  {
   "cell_type": "code",
   "execution_count": 45,
   "metadata": {},
   "outputs": [
    {
     "name": "stdout",
     "output_type": "stream",
     "text": [
      "After  5  episodes: \n",
      "   wins:  28.9 ; loss:  29.9 ; tie:  41.2\n",
      "After  1000  episodes: \n",
      "   wins:  30.1 ; loss:  28.8 ; tie:  41.1\n",
      "After  5000  episodes: \n",
      "   wins:  28.7 ; loss:  29.9 ; tie:  41.4\n",
      "After  100000  episodes: \n",
      "   wins:  31.2 ; loss:  27.7 ; tie:  41.1\n",
      "After  200000  episodes: \n",
      "   wins:  28.5 ; loss:  30.0 ; tie:  41.5\n",
      "After  300000  episodes: \n",
      "   wins:  30.2 ; loss:  28.9 ; tie:  40.9\n",
      "After  400000  episodes: \n",
      "   wins:  34.5 ; loss:  27.1 ; tie:  38.4\n",
      "After  500000  episodes: \n",
      "   wins:  31.2 ; loss:  31.7 ; tie:  37.1\n",
      "After  600000  episodes: \n",
      "   wins:  32.2 ; loss:  28.6 ; tie:  39.2\n",
      "After  700000  episodes: \n",
      "   wins:  32.0 ; loss:  28.9 ; tie:  39.1\n",
      "After  800000  episodes: \n",
      "   wins:  31.1 ; loss:  29.2 ; tie:  39.7\n",
      "After  900000  episodes: \n",
      "   wins:  34.6 ; loss:  27.3 ; tie:  38.1\n",
      "After  1000000  episodes: \n",
      "   wins:  31.8 ; loss:  28.5 ; tie:  39.7\n"
     ]
    }
   ],
   "source": [
    "win_list=[]\n",
    "loss_list=[]\n",
    "tie_list=[]\n",
    "x_axis=[]\n",
    "pi = np.zeros([3**16,16])\n",
    "Counts = np.zeros([3**16,16])\n",
    "Q = np.zeros([3**16,16])\n",
    "myQ=monte_carlo_control(pi,Q,Counts)"
   ]
  },
  {
   "cell_type": "code",
   "execution_count": 46,
   "metadata": {},
   "outputs": [
    {
     "name": "stdout",
     "output_type": "stream",
     "text": [
      "[28.9, 30.1, 28.7, 31.2, 28.5, 30.2, 34.5, 31.2, 32.2, 32.0, 31.1, 34.6, 31.8]\n",
      "[29.9, 28.8, 29.9, 27.7, 30.0, 28.9, 27.1, 31.7, 28.6, 28.9, 29.2, 27.3, 28.5]\n",
      "[41.2, 41.1, 41.4, 41.1, 41.5, 40.9, 38.4, 37.1, 39.2, 39.1, 39.7, 38.1, 39.7]\n",
      "[5, 1000, 5000, 100000, 200000, 300000, 400000, 500000, 600000, 700000, 800000, 900000, 1000000]\n"
     ]
    },
    {
     "data": {
      "image/png": "[encoded data removed]",
      "text/plain": [
       "<Figure size 432x288 with 1 Axes>"
      ]
     },
     "metadata": {
      "needs_background": "light"
     },
     "output_type": "display_data"
    }
   ],
   "source": [
    "print(win_list)\n",
    "print(loss_list)\n",
    "print(tie_list)\n",
    "print(x_axis)\n",
    "plt.plot(x_axis,win_list,color='blue',linewidth=3,label='Wins')\n",
    "plt.plot(x_axis,loss_list,color='red',linewidth=3,label='Losses')\n",
    "plt.plot(x_axis,tie_list,color='green',linewidth=3,label='Ties')\n",
    "plt.legend(title='Monte Carlo Control 1 million')\n",
    "plt.xlabel(\"# of episodes\")\n",
    "plt.ylabel(\"% of wins/losses/ties\")\n",
    "plt.show()"
   ]
  },
  {
   "cell_type": "code",
   "execution_count": null,
   "metadata": {},
   "outputs": [],
   "source": []
  }
 ],
 "metadata": {
  "kernelspec": {
   "display_name": "Python 3",
   "language": "python",
   "name": "python3"
  },
  "language_info": {
   "codemirror_mode": {
    "name": "ipython",
    "version": 3
   },
   "file_extension": ".py",
   "mimetype": "text/x-python",
   "name": "python",
   "nbconvert_exporter": "python",
   "pygments_lexer": "ipython3",
   "version": "3.8.5"
  }
 },
 "nbformat": 4,
 "nbformat_minor": 4
}
